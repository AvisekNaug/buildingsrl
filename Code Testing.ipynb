{
 "cells": [
  {
   "cell_type": "code",
   "execution_count": 1,
   "metadata": {},
   "outputs": [
    {
     "name": "stderr",
     "output_type": "stream",
     "text": [
      "Using TensorFlow backend.\n"
     ]
    }
   ],
   "source": [
    "from buildingenv import *\n",
    "from ppoagent import *\n",
    "from create_env import *\n",
    "from datapreprocess import *\n",
    "from plotutils import *\n",
    "import os\n",
    "from modelretrain import *"
   ]
  },
  {
   "cell_type": "code",
   "execution_count": 2,
   "metadata": {},
   "outputs": [],
   "source": [
    "# Specifying logging location & Parameters\n",
    "weekstart = 0  # create 12 week train and 1 week test data set\n",
    "slicepoint = 12\n",
    "weekend = 13\n",
    "# specify logging directory\n",
    "logdir = './rl_results/'\n",
    "# clear old files\n",
    "try:\n",
    "    os.mkdir(logdir)\n",
    "except FileExistsError:\n",
    "    files = os.listdir(logdir)\n",
    "    for f in files:\n",
    "        os.remove(logdir + f)"
   ]
  },
  {
   "cell_type": "code",
   "execution_count": 3,
   "metadata": {},
   "outputs": [],
   "source": [
    "traindata = 'RL_relearn_dataV2.pkl'\n",
    "# chunk data frame into weeks\n",
    "dfchunks, spacelb, spaceub = datachunks(traindata, period=1, lag=-1, outputcolumn= 'TotalE',\n",
    "                                        subsequence=True, smoothing=True, days=7, Wn =0.02)"
   ]
  },
  {
   "cell_type": "code",
   "execution_count": 4,
   "metadata": {},
   "outputs": [
    {
     "data": {
      "text/plain": [
       "58"
      ]
     },
     "execution_count": 4,
     "metadata": {},
     "output_type": "execute_result"
    }
   ],
   "source": [
    "len(dfchunks)"
   ]
  },
  {
   "cell_type": "code",
   "execution_count": 20,
   "metadata": {},
   "outputs": [
    {
     "data": {
      "text/plain": [
       "([15.8, 16.982016, 0.0, 54.25], [97.2, 96.0, 1033.0, 87.45])"
      ]
     },
     "execution_count": 20,
     "metadata": {},
     "output_type": "execute_result"
    }
   ],
   "source": [
    "spacelb, spaceub"
   ]
  },
  {
   "cell_type": "code",
   "execution_count": null,
   "metadata": {},
   "outputs": [],
   "source": [
    "num_steps=2040  # training over 12 weeks or approximately 3 months for 5 times\n",
    "episode_length = int(10080 / 5)\n",
    "train_X, train_y, test_X, test_y, train_df, test_df = \\\n",
    "    dflist2array(dfchunks, weekstart, slicepoint, weekend, scaling=True)  # select data"
   ]
  },
  {
   "cell_type": "code",
   "execution_count": null,
   "metadata": {
    "scrolled": false
   },
   "outputs": [],
   "source": [
    "env = Env(train_df, test_df, spacelb, spaceub, modelpath='weights.best.hdf5',\n",
    "          episodelength=episode_length)   # instantiating the environment\n",
    "env = wrap_env(env, logdir)  # wrapping environment for logging information\n",
    "agent = get_agent(env)  # Instantiating the agent for learning the control policy"
   ]
  },
  {
   "cell_type": "code",
   "execution_count": null,
   "metadata": {
    "scrolled": true
   },
   "outputs": [],
   "source": [
    "trained_model = train_agent(agent, env, steps=num_steps)  # train agent"
   ]
  },
  {
   "cell_type": "code",
   "execution_count": null,
   "metadata": {},
   "outputs": [],
   "source": [
    "# save fixed agent weights\n",
    "trained_model.save(logdir+'fixedweights.pkl')\n",
    "# save updating agent weights\n",
    "trained_model.save(logdir+'updating_weights_week{}.pkl'.format(weekend))"
   ]
  },
  {
   "cell_type": "code",
   "execution_count": null,
   "metadata": {},
   "outputs": [],
   "source": [
    "# necessary steps to adjust the env for testing\n",
    "env.env_method(\"testenv\")\n",
    "env.env_method(\"reset\")\n",
    "\n",
    "# results for updated controller\n",
    "test_perf_log = test_agent(logdir+'updating_weights_week{}.pkl'.format(weekend), env)  # do testing\n",
    "\n",
    "rl_perf_save(test_perf_log, logdir + 'Week' + str(weekend) + 'updated_')  # Store performance of updated control\n",
    "\n",
    "# necessary steps to adjust the env for testing\n",
    "env.env_method(\"testenv\")\n",
    "env.env_method(\"reset\")\n",
    "\n",
    "# results for fixed controller\n",
    "test_perf_log = test_agent(logdir+'fixedweights.pkl', env)  # do testing\n",
    "\n",
    "rl_perf_save(test_perf_log, logdir + 'Week' + str(weekend) + 'fixed_')  # Store performance of fixed control"
   ]
  },
  {
   "cell_type": "code",
   "execution_count": 9,
   "metadata": {},
   "outputs": [
    {
     "data": {
      "text/plain": [
       "43"
      ]
     },
     "execution_count": 9,
     "metadata": {},
     "output_type": "execute_result"
    }
   ],
   "source": [
    "int(0.75*len(dfchunks))"
   ]
  },
  {
   "cell_type": "code",
   "execution_count": null,
   "metadata": {
    "scrolled": true
   },
   "outputs": [],
   "source": [
    "# Now we run a loop where we retrain the agent and compare it with fixed agent performance\n",
    "weekstart = 8  # for 1 month retraining periods\n",
    "common = True\n",
    "while weekend<int(0.57*len(dfchunks)):\n",
    "\n",
    "    # advance 1 week\n",
    "    weekstart += 1\n",
    "    slicepoint += 1\n",
    "    weekend += 1\n",
    "\n",
    "    # create new data\n",
    "    train_X, train_y, test_X, test_y, train_df, test_df = \\\n",
    "        dflist2array(dfchunks, weekstart, slicepoint, weekend, scaling=True)  # select data\n",
    "    num_steps = 5000  # 4 weeks for 5 times\n",
    "\n",
    "    # continue LSTM model training\n",
    "    lstm = load_model('weights.best.hdf5')\n",
    "    retrain(lstm, train_X, train_y, test_X, test_y, epochs = 5)\n",
    "\n",
    "    # create the HVAC environment with new data\n",
    "    env = Env(train_df, test_df, spacelb, spaceub, modelpath='weights.best.hdf5')  # instantiating the environment\n",
    "    env = wrap_env(env, logdir)  # wrapping environment for logging information\n",
    "\n",
    "    # do training\n",
    "    trained_model = train_agent(agent, env, steps=num_steps)\n",
    "    # save updating agent weights\n",
    "    trained_model.save(logdir + 'updating_weights_week{}.pkl'.format(weekend))\n",
    "\n",
    "    # necessary steps to adjust the env for testing\n",
    "    env.env_method(\"testenv\")\n",
    "\n",
    "    # results for updated controller\n",
    "    test_perf_log = test_agent(logdir + 'updating_weights_week{}.pkl'.format(weekend), env)  # do testing\n",
    "\n",
    "    rl_perf_save(test_perf_log, logdir + 'Week' + str(weekend) + 'updated_')  # Store performance of updated control\n",
    "\n",
    "    # necessary steps to adjust the env for testing\n",
    "    env.env_method(\"testenv\")\n",
    "\n",
    "    # results for fixed controller\n",
    "    test_perf_log = test_agent(logdir + 'fixedweights.pkl', env)  # do testing\n",
    "\n",
    "    rl_perf_save(test_perf_log, logdir + 'Week' + str(weekend) + 'fixed_')  # Store performance of fixed control"
   ]
  },
  {
   "cell_type": "code",
   "execution_count": null,
   "metadata": {},
   "outputs": [],
   "source": [
    "#individual trial plots\n",
    "readfolderloc = logdir\n",
    "writefolderloc = logdir"
   ]
  },
  {
   "cell_type": "code",
   "execution_count": null,
   "metadata": {},
   "outputs": [],
   "source": [
    "for i in range(13,15):\n",
    "    week_to_compare = i\n",
    "    rl_energy_comparev2(readfolderloc+'Week'+str(week_to_compare)+'updated_old_energy.txt',\n",
    "                  readfolderloc+'Week'+str(week_to_compare)+'updated_oat.txt',\n",
    "                  readfolderloc+'Week'+str(week_to_compare)+'updated_rl_energy.txt', \n",
    "                    readfolderloc+'Week'+str(week_to_compare)+'fixed_rl_energy.txt',\n",
    "                  writefolderloc,\n",
    "                   week=str(week_to_compare))\n",
    "    oat_vs_controlv2(readfolderloc+'Week'+str(week_to_compare)+'updated_dat.txt',\n",
    "                 readfolderloc+'Week'+str(week_to_compare)+'fixed_dat.txt',\n",
    "               readfolderloc+'Week'+str(week_to_compare)+'updated_oat.txt',\n",
    "               writefolderloc,\n",
    "                   week=str(week_to_compare))"
   ]
  },
  {
   "cell_type": "code",
   "execution_count": null,
   "metadata": {},
   "outputs": [],
   "source": [
    "weeklysavings(13,15, readfolderloc, writefolderloc)"
   ]
  },
  {
   "cell_type": "markdown",
   "metadata": {},
   "source": [
    "## Execute this on completing several trials"
   ]
  },
  {
   "cell_type": "code",
   "execution_count": null,
   "metadata": {},
   "outputs": [],
   "source": [
    "combinedenergyplot(logdirlist,\n",
    "                        13, \n",
    "                        15,\n",
    "                        './rl_perf_plots/')"
   ]
  },
  {
   "cell_type": "code",
   "execution_count": null,
   "metadata": {},
   "outputs": [],
   "source": [
    "combinedtempplot(logdirlist,\n",
    "                        13, \n",
    "                        51,\n",
    "                        './rl_perf_plots/')"
   ]
  },
  {
   "cell_type": "code",
   "execution_count": null,
   "metadata": {},
   "outputs": [],
   "source": [
    "aggregatebarplot(logdirlist,\n",
    "                        13, \n",
    "                        15,\n",
    "                        './rl_perf_plots/')"
   ]
  },
  {
   "cell_type": "code",
   "execution_count": null,
   "metadata": {},
   "outputs": [],
   "source": []
  }
 ],
 "metadata": {
  "kernelspec": {
   "display_name": "Python [conda env:SmartBuildings] *",
   "language": "python",
   "name": "conda-env-SmartBuildings-py"
  },
  "language_info": {
   "codemirror_mode": {
    "name": "ipython",
    "version": 3
   },
   "file_extension": ".py",
   "mimetype": "text/x-python",
   "name": "python",
   "nbconvert_exporter": "python",
   "pygments_lexer": "ipython3",
   "version": "3.7.3"
  }
 },
 "nbformat": 4,
 "nbformat_minor": 2
}
